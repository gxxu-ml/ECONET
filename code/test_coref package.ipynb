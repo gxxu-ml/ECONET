{
 "cells": [
  {
   "cell_type": "code",
   "execution_count": null,
   "id": "0f50288d",
   "metadata": {},
   "outputs": [],
   "source": [
    "from get_coref_df import *"
   ]
  },
  {
   "cell_type": "code",
   "execution_count": null,
   "id": "07a6e218",
   "metadata": {
    "scrolled": true
   },
   "outputs": [],
   "source": [
    "get_coref_df()"
   ]
  },
  {
   "cell_type": "code",
   "execution_count": null,
   "id": "0f4f1402",
   "metadata": {
    "scrolled": true
   },
   "outputs": [],
   "source": [
    "from TE_data import *\n",
    "stories = [\"ali-baba-and-forty-thieves\",\"bamboo-cutter-moon-child\",\"old-dschang\",\"cinderella-or-the-little-glass-slipper\"]\n",
    "d = get_data(story = stories[3])"
   ]
  },
  {
   "cell_type": "code",
   "execution_count": 1,
   "id": "a31a97ce",
   "metadata": {},
   "outputs": [
    {
     "data": {
      "text/plain": [
       "['../new_test/ali-baba-and-forty-thieves/',\n",
       " '../new_test/bamboo-cutter-moon-child/',\n",
       " '../new_test/old-dschang/',\n",
       " '../new_test/cinderella-or-the-little-glass-slipper/']"
      ]
     },
     "execution_count": 1,
     "metadata": {},
     "output_type": "execute_result"
    }
   ],
   "source": [
    "from TE_inference_lib import TE_infer\n",
    "stories = [\"ali-baba-and-forty-thieves\",\"bamboo-cutter-moon-child\",\"old-dschang\",\"cinderella-or-the-little-glass-slipper\"]\n",
    "data_dir = '../new_test/'\n",
    "story_dirs = [data_dir+x+'/' for x in stories]\n",
    "story_dirs"
   ]
  },
  {
   "cell_type": "code",
   "execution_count": 2,
   "id": "27c9114e",
   "metadata": {},
   "outputs": [
    {
     "name": "stderr",
     "output_type": "stream",
     "text": [
      "05/05/2022 17:32:35 - INFO - TE_inference_lib -   device: cuda n_gpu: 8\n",
      "05/05/2022 17:32:35 - INFO - TE_inference_lib -   current task is transfer\n"
     ]
    },
    {
     "name": "stdout",
     "output_type": "stream",
     "text": [
      "OrderedDict([('VAGUE', 0), ('BEFORE', 1), ('AFTER', 2), ('SIMULTANEOUS', 3)])\n",
      "OrderedDict([(0, 'VAGUE'), (1, 'BEFORE'), (2, 'AFTER'), (3, 'SIMULTANEOUS')])\n"
     ]
    },
    {
     "name": "stderr",
     "output_type": "stream",
     "text": [
      "05/05/2022 17:32:51 - INFO - TE_inference_lib -   ***** Running evaluation *****\n",
      "05/05/2022 17:32:51 - INFO - TE_inference_lib -     Batch size = 32\n",
      "05/05/2022 17:32:51 - INFO - TE_inference_lib -     Num TE examples = 122\n"
     ]
    },
    {
     "name": "stdout",
     "output_type": "stream",
     "text": [
      "Counter({'BEFORE': 122})\n",
      "Counter()\n",
      "0 sentences have more than 200 tokens, 0\n",
      "TE global max: 109\n"
     ]
    },
    {
     "name": "stderr",
     "output_type": "stream",
     "text": [
      "Evaluating: 100%|█████████████████████████████████| 4/4 [00:01<00:00,  2.88it/s]\n"
     ]
    },
    {
     "name": "stdout",
     "output_type": "stream",
     "text": [
      "97 122 122\n",
      "Name: transfer-matres\t Created: 2022-05-05T17:32:53.206323\tTotal Labels: 2 \t Total Tests: 122\n",
      "       AFTER BEFORE \n",
      "AFTER  0     0      \n",
      "BEFORE 25    97     \n",
      "\n",
      "         Total    Predictions  Correct  Precision  Recall    F1-Measure\n",
      "  AFTER  0        25           0        0          0         0         \n",
      " BEFORE  122      97           97       1.0000     0.7951    0.8858    \n",
      "\n",
      "Weighted Avg                                 1.0000     0.7951    0.8858    \n",
      " Total Examples: 122\n",
      " Overall Precision: 0.7951\n",
      " Overall Recall: 0.7951\n",
      " Overall F1: 0.7951 \n",
      "OrderedDict([('VAGUE', 0), ('BEFORE', 1), ('AFTER', 2), ('SIMULTANEOUS', 3)])\n",
      "OrderedDict([(0, 'VAGUE'), (1, 'BEFORE'), (2, 'AFTER'), (3, 'SIMULTANEOUS')])\n"
     ]
    },
    {
     "name": "stderr",
     "output_type": "stream",
     "text": [
      "05/05/2022 17:32:54 - INFO - TE_inference_lib -   ***** Running evaluation *****\n",
      "05/05/2022 17:32:54 - INFO - TE_inference_lib -     Batch size = 32\n",
      "05/05/2022 17:32:54 - INFO - TE_inference_lib -     Num TE examples = 842\n"
     ]
    },
    {
     "name": "stdout",
     "output_type": "stream",
     "text": [
      "Counter({'BEFORE': 842})\n",
      "Counter()\n",
      "0 sentences have more than 200 tokens, 0\n",
      "TE global max: 186\n"
     ]
    },
    {
     "name": "stderr",
     "output_type": "stream",
     "text": [
      "Evaluating: 100%|███████████████████████████████| 27/27 [00:04<00:00,  5.53it/s]\n",
      "05/05/2022 17:32:59 - INFO - TE_inference_lib -   ***** Running evaluation *****\n"
     ]
    },
    {
     "name": "stdout",
     "output_type": "stream",
     "text": [
      "645 842 842\n",
      "Name: transfer-matres\t Created: 2022-05-05T17:32:59.276553\tTotal Labels: 2 \t Total Tests: 842\n",
      "       AFTER BEFORE \n",
      "AFTER  0     0      \n",
      "BEFORE 197   645    \n",
      "\n",
      "         Total    Predictions  Correct  Precision  Recall    F1-Measure\n",
      "  AFTER  0        197          0        0          0         0         \n",
      " BEFORE  842      645          645      1.0000     0.7660    0.8675    \n",
      "\n",
      "Weighted Avg                                 1.0000     0.7660    0.8675    \n",
      " Total Examples: 842\n",
      " Overall Precision: 0.7660\n",
      " Overall Recall: 0.7660\n",
      " Overall F1: 0.7660 \n",
      "OrderedDict([('VAGUE', 0), ('BEFORE', 1), ('AFTER', 2), ('SIMULTANEOUS', 3)])\n",
      "OrderedDict([(0, 'VAGUE'), (1, 'BEFORE'), (2, 'AFTER'), (3, 'SIMULTANEOUS')])\n",
      "Counter({'BEFORE': 234})\n",
      "Counter()\n",
      "0 sentences have more than 200 tokens, 0\n",
      "TE global max: 79\n"
     ]
    },
    {
     "name": "stderr",
     "output_type": "stream",
     "text": [
      "05/05/2022 17:32:59 - INFO - TE_inference_lib -     Batch size = 32\n",
      "05/05/2022 17:32:59 - INFO - TE_inference_lib -     Num TE examples = 234\n",
      "Evaluating: 100%|█████████████████████████████████| 8/8 [00:00<00:00,  9.19it/s]\n"
     ]
    },
    {
     "name": "stdout",
     "output_type": "stream",
     "text": [
      "182 234 234\n",
      "Name: transfer-matres\t Created: 2022-05-05T17:33:00.372054\tTotal Labels: 2 \t Total Tests: 234\n",
      "       AFTER BEFORE \n",
      "AFTER  0     0      \n",
      "BEFORE 52    182    \n",
      "\n",
      "         Total    Predictions  Correct  Precision  Recall    F1-Measure\n",
      "  AFTER  0        52           0        0          0         0         \n",
      " BEFORE  234      182          182      1.0000     0.7778    0.8750    \n",
      "\n",
      "Weighted Avg                                 1.0000     0.7778    0.8750    \n",
      " Total Examples: 234\n",
      " Overall Precision: 0.7778\n",
      " Overall Recall: 0.7778\n",
      " Overall F1: 0.7778 \n",
      "OrderedDict([('VAGUE', 0), ('BEFORE', 1), ('AFTER', 2), ('SIMULTANEOUS', 3)])\n",
      "OrderedDict([(0, 'VAGUE'), (1, 'BEFORE'), (2, 'AFTER'), (3, 'SIMULTANEOUS')])\n"
     ]
    },
    {
     "name": "stderr",
     "output_type": "stream",
     "text": [
      "05/05/2022 17:33:00 - INFO - TE_inference_lib -   ***** Running evaluation *****\n",
      "05/05/2022 17:33:00 - INFO - TE_inference_lib -     Batch size = 32\n",
      "05/05/2022 17:33:00 - INFO - TE_inference_lib -     Num TE examples = 352\n"
     ]
    },
    {
     "name": "stdout",
     "output_type": "stream",
     "text": [
      "Counter({'BEFORE': 352})\n",
      "Counter()\n",
      "0 sentences have more than 200 tokens, 0\n",
      "TE global max: 139\n"
     ]
    },
    {
     "name": "stderr",
     "output_type": "stream",
     "text": [
      "Evaluating: 100%|███████████████████████████████| 11/11 [00:01<00:00,  6.07it/s]"
     ]
    },
    {
     "name": "stdout",
     "output_type": "stream",
     "text": [
      "262 352 352\n",
      "Name: transfer-matres\t Created: 2022-05-05T17:33:02.634069\tTotal Labels: 2 \t Total Tests: 352\n",
      "       AFTER BEFORE \n",
      "AFTER  0     0      \n",
      "BEFORE 90    262    \n",
      "\n",
      "         Total    Predictions  Correct  Precision  Recall    F1-Measure\n",
      "  AFTER  0        90           0        0          0         0         \n",
      " BEFORE  352      262          262      1.0000     0.7443    0.8534    \n",
      "\n",
      "Weighted Avg                                 1.0000     0.7443    0.8534    \n",
      " Total Examples: 352\n",
      " Overall Precision: 0.7443\n",
      " Overall Recall: 0.7443\n",
      " Overall F1: 0.7443 \n"
     ]
    },
    {
     "name": "stderr",
     "output_type": "stream",
     "text": [
      "\n"
     ]
    }
   ],
   "source": [
    "TE_infer(story_dirs)"
   ]
  },
  {
   "cell_type": "code",
   "execution_count": null,
   "id": "449835e3",
   "metadata": {
    "scrolled": true
   },
   "outputs": [],
   "source": [
    "d['L_0']"
   ]
  },
  {
   "cell_type": "code",
   "execution_count": null,
   "id": "7cc9ab34",
   "metadata": {},
   "outputs": [],
   "source": []
  },
  {
   "cell_type": "code",
   "execution_count": null,
   "id": "6275efd5",
   "metadata": {},
   "outputs": [],
   "source": [
    "d['L_45']['right_event'].span"
   ]
  },
  {
   "cell_type": "code",
   "execution_count": null,
   "id": "7f100b23",
   "metadata": {},
   "outputs": [],
   "source": [
    "srl, sentences, characters_df =get_core_data(dir='../new_test/', story='cinderella-or-the-little-glass-slipper')"
   ]
  },
  {
   "cell_type": "code",
   "execution_count": null,
   "id": "39a54da5",
   "metadata": {},
   "outputs": [],
   "source": [
    "srl[74]['verbs'][2]"
   ]
  },
  {
   "cell_type": "code",
   "execution_count": null,
   "id": "8a7d7eb8",
   "metadata": {
    "scrolled": true
   },
   "outputs": [],
   "source": [
    "srl[74]['words']"
   ]
  },
  {
   "cell_type": "code",
   "execution_count": null,
   "id": "92977ac2",
   "metadata": {},
   "outputs": [],
   "source": [
    "sentences[0]"
   ]
  },
  {
   "cell_type": "code",
   "execution_count": null,
   "id": "24e378d5",
   "metadata": {},
   "outputs": [],
   "source": []
  },
  {
   "cell_type": "code",
   "execution_count": null,
   "id": "4fb0902b",
   "metadata": {},
   "outputs": [],
   "source": []
  },
  {
   "cell_type": "code",
   "execution_count": null,
   "id": "0dc4ef87",
   "metadata": {},
   "outputs": [],
   "source": []
  },
  {
   "cell_type": "code",
   "execution_count": null,
   "id": "63596a57",
   "metadata": {},
   "outputs": [],
   "source": [
    "tokens = ['Once', 'there', 'was', 'a', 'gentleman', 'who', 'married', ',', 'for', 'his', 'second', 'wife', ',', 'the', 'proudest', 'and', 'most', 'haughty', 'woman', 'that', 'was', 'ever', 'seen', 'He', 'had', 'likewise', ',', 'by', 'another', 'wife', ',', 'a', 'young', 'daughter', ',', 'but', 'of', 'unparalleled', 'goodness', 'and', 'sweetness', 'of', 'temper', ',', 'which', 'she', 'took', 'from', 'her', 'mother', ',', 'who', 'was', 'the', 'best', 'creature', 'in', 'the', 'world']\n",
    "sentence = \"Once there was a gentleman who married, for his second wife, the proudest and most haughty woman that was ever seen. He had likewise, by another wife, a young daughter, but of unparalleled goodness and sweetness of temper, which she took from her mother, who was the best creature in the world. \"\n",
    "get_tokens_start_end_bytes(tokens, sentence)\n",
    "\n"
   ]
  },
  {
   "cell_type": "code",
   "execution_count": null,
   "id": "4d5a1025",
   "metadata": {},
   "outputs": [],
   "source": []
  },
  {
   "cell_type": "code",
   "execution_count": null,
   "id": "1f35686c",
   "metadata": {},
   "outputs": [],
   "source": []
  },
  {
   "cell_type": "code",
   "execution_count": null,
   "id": "49cf0e60",
   "metadata": {},
   "outputs": [],
   "source": [
    "d['L_0']"
   ]
  },
  {
   "cell_type": "code",
   "execution_count": null,
   "id": "10073bb3",
   "metadata": {
    "scrolled": true
   },
   "outputs": [],
   "source": [
    "d['L_323']['doc_dictionary']"
   ]
  },
  {
   "cell_type": "code",
   "execution_count": null,
   "id": "6a4eb025",
   "metadata": {
    "scrolled": true
   },
   "outputs": [],
   "source": [
    "sentences_path = '../new_test/sentence/cinderella-or-the-little-glass-slipper.sentences.csv'    \n",
    "sentences_df = pd.read_csv(sentences_path)\n",
    "sentences = sentences_df['text'].tolist()\n"
   ]
  },
  {
   "cell_type": "code",
   "execution_count": null,
   "id": "703264e4",
   "metadata": {},
   "outputs": [],
   "source": [
    "sentences_df[20:50]"
   ]
  },
  {
   "cell_type": "code",
   "execution_count": null,
   "id": "2dafeccf",
   "metadata": {},
   "outputs": [],
   "source": [
    "d['L_352']['right_event'].span"
   ]
  },
  {
   "cell_type": "code",
   "execution_count": null,
   "id": "d0c48098",
   "metadata": {},
   "outputs": [],
   "source": [
    "sentences[100]"
   ]
  },
  {
   "cell_type": "code",
   "execution_count": null,
   "id": "a5266d2e",
   "metadata": {},
   "outputs": [],
   "source": []
  }
 ],
 "metadata": {
  "kernelspec": {
   "display_name": "Python 3 (ipykernel)",
   "language": "python",
   "name": "python3"
  },
  "language_info": {
   "codemirror_mode": {
    "name": "ipython",
    "version": 3
   },
   "file_extension": ".py",
   "mimetype": "text/x-python",
   "name": "python",
   "nbconvert_exporter": "python",
   "pygments_lexer": "ipython3",
   "version": "3.7.11"
  }
 },
 "nbformat": 4,
 "nbformat_minor": 5
}
